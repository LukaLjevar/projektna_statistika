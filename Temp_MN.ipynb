{
  "cells": [
    {
      "cell_type": "code",
      "execution_count": 64,
      "id": "167ef2fd",
      "metadata": {
        "id": "167ef2fd",
        "outputId": "748e5f24-e3fc-4ed2-9b27-5328b49d5e72",
        "colab": {
          "base_uri": "https://localhost:8080/"
        }
      },
      "outputs": [
        {
          "output_type": "stream",
          "name": "stdout",
          "text": [
            "povprečje: 14.090421524663677\n",
            "standardni odklon: 12.910692967851453\n",
            "95% napovedni interval (beli šum): (np.float64(-11.22588166407513), np.float64(39.40672471340248))\n"
          ]
        }
      ],
      "source": [
        "import pandas as pd\n",
        "import numpy as np\n",
        "from scipy.stats import norm\n",
        "from scipy.stats import t\n",
        "\n",
        "df = pd.read_csv('Temp_MN.csv')\n",
        "\n",
        "# Povprečje in standardni odklon\n",
        "n = df.shape[0]\n",
        "mu = df['TEMP'].mean()\n",
        "sigma = df['TEMP'].std(ddof=1) # <- nepristranska cenilka\n",
        "\n",
        "# 95% napovedni interval za naslednji dan\n",
        "#Ker sigma ni znan, moramo uporabiti Studentovo porazdelitev, vendar se pri 1114 prostostnih\n",
        "# stopnjah kvantili Studentove porazdelitve že zelo ujemajo s kvantili N(0, 1).\n",
        "# Ker privzemamo neodvisnost temperatur med dnevi, dobimo napovedni interval za temperaturo naslednji dan.\n",
        "sp_meja = mu - 1.96 * sigma * np.sqrt(1 + 1/n)\n",
        "zg_meja = mu + 1.96 * sigma * np.sqrt(1 + 1/n)\n",
        "interval = (sp_meja, zg_meja)\n",
        "print(f\"povprečje: {mu}\")\n",
        "print(f\"standardni odklon: {sigma}\")\n",
        "print(f\"95% napovedni interval (beli šum): {interval}\")"
      ]
    },
    {
      "cell_type": "code",
      "execution_count": 65,
      "id": "0292b94c",
      "metadata": {
        "id": "0292b94c",
        "outputId": "9561f7fd-06fb-4e0c-f75b-56d74075bdab",
        "colab": {
          "base_uri": "https://localhost:8080/"
        }
      },
      "outputs": [
        {
          "output_type": "stream",
          "name": "stdout",
          "text": [
            "povprečni šum: 1.804698274707481e-08\n",
            "opimalni parametri: [12.29655081  7.298332   14.36784202]\n",
            "95% napovedni interval (sezonski model): (np.float64(6.2064988255939095), np.float64(28.935894566793415))\n"
          ]
        }
      ],
      "source": [
        "from scipy.optimize import curve_fit\n",
        "import numpy as np\n",
        "\n",
        "df = pd.read_csv('Temp_MN.csv')\n",
        "\n",
        "dan = df['DAN']\n",
        "\n",
        "def model(t, a0, a1, a2):\n",
        "    return a0 + a1 * np.sin(2 * np.pi * t / 365.25) + a2 * np.cos(2 * np.pi * t / 365.25)\n",
        "\n",
        "# Prileganje modela\n",
        "# popt ... optimalni parametri\n",
        "# pcov ... kovariančna matrika\n",
        "popt, _ = curve_fit(model, dan, df['TEMP'])\n",
        "sumi = df['TEMP'] - model(dan, *popt) # zvezdica 'razpakira' podatke\n",
        "povprecni_sum = sumi.mean()\n",
        "sigma = sumi.std(ddof=1)\n",
        "\n",
        "# Napoved za naslednji dan (zadnji dan + 1)\n",
        "zadnji_dan = df['DAN'].iloc[-1]\n",
        "naslednji_dan = zadnji_dan + 1\n",
        "napoved = model(naslednji_dan, *popt) # zvezdica 'razpakira' podatke\n",
        "\n",
        "\n",
        "# 95% napovedni interval za naslednji dan\n",
        "#Ker sigma ni znan, moramo uporabiti Studentovo porazdelitev, vendar se pri 1114 prostostnih\n",
        "# stopnjah kvantili Studentove porazdelitve že zelo ujemajo s kvantili N(0, 1).\n",
        "# Ker privzemamo neodvisnost Šumov med dnevi, dobimo napovedni interval za temperaturo naslednji dan.\n",
        "sp_meja1 = napoved + povprecni_sum - 1.96 * sigma * np.sqrt(1 + 1/n)\n",
        "zg_meja1 = napoved + povprecni_sum + 1.96 * sigma * np.sqrt(1 + 1/n)\n",
        "interval = (sp_meja1, zg_meja1)\n",
        "print(f\"povprečni šum: {povprecni_sum}\")\n",
        "print(f\"opimalni parametri: {popt}\")\n",
        "print(f\"95% napovedni interval (sezonski model): {interval}\")"
      ]
    },
    {
      "cell_type": "code",
      "execution_count": 66,
      "id": "d6213115",
      "metadata": {
        "id": "d6213115",
        "outputId": "3edee96f-bc13-42ce-df54-22f1bc762ed2",
        "colab": {
          "base_uri": "https://localhost:8080/"
        }
      },
      "outputs": [
        {
          "output_type": "stream",
          "name": "stdout",
          "text": [
            "Napoved za dan 1195 (dan v letu 100): 8.03\n",
            "95% napovedni interval (model sprememb): (np.float64(-0.7349512108824321), np.float64(16.797982487826363))\n"
          ]
        }
      ],
      "source": [
        "import pandas as pd\n",
        "import numpy as np\n",
        "from scipy.optimize import curve_fit\n",
        "from scipy.stats import norm\n",
        "\n",
        "# Naloži podatke\n",
        "df = pd.read_csv('Temp_MN.csv')\n",
        "\n",
        "# Poskrbi, da so podatki razvrščeni po dnevu\n",
        "df = df.sort_values('DAN')\n",
        "\n",
        "# Izračunaj spremembe temperatur med zaporednimi dnevi (delta_T)\n",
        "df['delta_T'] = df['TEMP'].diff()\n",
        "df['delta_DAN'] = df['DAN'].diff()\n",
        "\n",
        "# Uporabi le tiste vrstice, kjer je razlika dneva 1 (zaporedni dnevi)\n",
        "mask = df['delta_DAN'] == 1\n",
        "delta_T = df.loc[mask, 'delta_T']\n",
        "dan_v_letu = ((df.loc[mask, 'DAN'] - 1) % 365) + 1\n",
        "\n",
        "# Sezonski model za spremembe\n",
        "def sezonska_sprememba(t, b1, b2):\n",
        "    return b1 * np.sin(2 * np.pi * t / 365) + b2 * np.cos(2 * np.pi * t / 365) # CENTRIRANA: konstantni člen = 0\n",
        "\n",
        "# Prileganje modela\n",
        "popt, _ = curve_fit(sezonska_sprememba, dan_v_letu, delta_T)\n",
        "ostanki = delta_T - sezonska_sprememba(dan_v_letu, *popt)\n",
        "sigma = ostanki.std(ddof=1)\n",
        "\n",
        "# Napoved za naslednji dan (1195)\n",
        "naslednji_dan = 1195\n",
        "naslednji_dan_v_letu = ((naslednji_dan - 1) % 365) + 1\n",
        "delta_pred = sezonska_sprememba(naslednji_dan_v_letu, *popt)\n",
        "T_pred = df['TEMP'].iloc[-1] + delta_pred\n",
        "\n",
        "# 95% napovedni interval za naslednji dan\n",
        "#Ker sigma ni znan, moramo uporabiti Studentovo porazdelitev, vendar se pri 1114 prostostnih\n",
        "# stopnjah kvantili Studentove porazdelitve že zelo ujemajo s kvantili N(0, 1).\n",
        "# Ker privzemamo neodvisnost sprememb temperatur med dnevi, dobimo napovedni interval za temperaturo naslednji dan.\n",
        "sp_meja2 = T_pred - 1.96 * sigma * np.sqrt(1 + 1/n)\n",
        "zg_meja2 = T_pred + 1.96 * sigma * np.sqrt(1 + 1/n)\n",
        "interval = (sp_meja2, zg_meja2)\n",
        "print(f\"Napoved za dan {naslednji_dan} (dan v letu {naslednji_dan_v_letu}): {T_pred:.2f}\")\n",
        "print(f\"95% napovedni interval (model sprememb): {interval}\")\n"
      ]
    }
  ],
  "metadata": {
    "kernelspec": {
      "display_name": "Python 3",
      "language": "python",
      "name": "python3"
    },
    "language_info": {
      "codemirror_mode": {
        "name": "ipython",
        "version": 3
      },
      "file_extension": ".py",
      "mimetype": "text/x-python",
      "name": "python",
      "nbconvert_exporter": "python",
      "pygments_lexer": "ipython3",
      "version": "3.12.6"
    },
    "colab": {
      "provenance": []
    }
  },
  "nbformat": 4,
  "nbformat_minor": 5
}