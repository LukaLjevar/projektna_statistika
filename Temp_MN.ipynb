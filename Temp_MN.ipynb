{
 "cells": [
  {
   "cell_type": "code",
   "execution_count": 2,
   "id": "167ef2fd",
   "metadata": {},
   "outputs": [
    {
     "name": "stdout",
     "output_type": "stream",
     "text": [
      "povprečje: 14.090421524663677\n",
      "standardni odklon): 12.910692967851444\n",
      "95% napovedni interval (beli šum): (np.float64(-11.241569801082411), np.float64(39.42241285040976))\n"
     ]
    }
   ],
   "source": [
    "import pandas as pd\n",
    "import numpy as np\n",
    "from scipy.stats import norm\n",
    "from scipy.stats import t\n",
    "\n",
    "# Naloži podatke\n",
    "df = pd.read_csv('Temp_MN.csv')  # prilagodi ime datoteke/stolpcev po potrebi\n",
    "\n",
    "# Povprečje in standardni odklon\n",
    "mu = df['TEMP'].mean()\n",
    "sigma = df['TEMP'].std(ddof=1) # <- nepristranska cenilka\n",
    "\n",
    "# 95% napovedni interval za naslednji dan\n",
    "interval = t.interval(0.95, 1115, loc = mu, scale=sigma) #TUDI TU NE POZNAŠ SIGME -> POJDI S STUDENTOM (glej IZ pri neznanem sigma)\n",
    "print(f\"povprečje: {mu}\")\n",
    "print(f\"standardni odklon): {sigma}\")\n",
    "print(f\"95% napovedni interval (beli šum): {interval}\")"
   ]
  },
  {
   "cell_type": "code",
   "execution_count": 3,
   "id": "0292b94c",
   "metadata": {},
   "outputs": [
    {
     "name": "stdout",
     "output_type": "stream",
     "text": [
      "Napoved za dan 1195 (dan v letu 100): 17.47\n",
      "95% napovedni interval (sezonski model): (np.float64(6.112886129132786), np.float64(28.823756451993045))\n"
     ]
    }
   ],
   "source": [
    "from scipy.optimize import curve_fit\n",
    "import numpy as np\n",
    "\n",
    "# Naloži podatke\n",
    "df = pd.read_csv('Temp_MN.csv')\n",
    "\n",
    "# Pretvori v dan v letu (1-365)\n",
    "dan_v_letu = ((df['DAN'] - 1) % 365) + 1\n",
    "\n",
    "def sezonski_model(t, a0, a1, a2):\n",
    "    return a0 + a1 * np.sin(2 * np.pi * t / 365) + a2 * np.cos(2 * np.pi * t / 365)\n",
    "\n",
    "# Prileganje modela\n",
    "popt, pcov = curve_fit(sezonski_model, dan_v_letu, df['TEMP'])\n",
    "ostanki = df['TEMP'] - sezonski_model(dan_v_letu, *popt)\n",
    "sigma = ostanki.std(ddof=1)\n",
    "\n",
    "# Napoved za naslednji dan (zadnji dan + 1)\n",
    "zadnji_dan = df['DAN'].iloc[-1]\n",
    "naslednji_dan = zadnji_dan + 1\n",
    "naslednji_dan_v_letu = ((naslednji_dan - 1) % 365) + 1\n",
    "napoved = sezonski_model(naslednji_dan_v_letu, *popt)\n",
    "\n",
    "from scipy.stats import norm\n",
    "interval = norm.interval(0.95, loc=napoved, scale=sigma)  #MORDA GREM RAJE PO STUDENTU? ALI?\n",
    "print(f\"Napoved za dan {naslednji_dan} (dan v letu {naslednji_dan_v_letu}): {napoved:.2f}\")\n",
    "print(f\"95% napovedni interval (sezonski model): {interval}\")"
   ]
  },
  {
   "cell_type": "code",
   "execution_count": 4,
   "id": "d6213115",
   "metadata": {},
   "outputs": [
    {
     "name": "stdout",
     "output_type": "stream",
     "text": [
      "Napoved za dan 1195 (dan v letu 100): 8.03\n",
      "95% napovedni interval (model sprememb): (np.float64(-0.7308617183044124), np.float64(16.793892935538878))\n"
     ]
    }
   ],
   "source": [
    "import pandas as pd\n",
    "import numpy as np\n",
    "from scipy.optimize import curve_fit\n",
    "from scipy.stats import norm\n",
    "\n",
    "# Naloži podatke\n",
    "df = pd.read_csv('Temp_MN.csv')\n",
    "\n",
    "# Poskrbi, da so podatki razvrščeni po dnevu\n",
    "df = df.sort_values('DAN')\n",
    "\n",
    "# Izračunaj spremembe temperatur med zaporednimi dnevi (delta_T)\n",
    "df['delta_T'] = df['TEMP'].diff()\n",
    "df['delta_DAN'] = df['DAN'].diff()\n",
    "\n",
    "# Uporabi le tiste vrstice, kjer je razlika dneva 1 (zaporedni dnevi)\n",
    "mask = df['delta_DAN'] == 1\n",
    "delta_T = df.loc[mask, 'delta_T']\n",
    "dan_v_letu = ((df.loc[mask, 'DAN'] - 1) % 365) + 1\n",
    "\n",
    "# Sezonski model za spremembe\n",
    "def sezonska_diferenca(t, b1, b2):\n",
    "    return b1 * np.sin(2 * np.pi * t / 365) + b2 * np.cos(2 * np.pi * t / 365)\n",
    "\n",
    "# Prileganje modela\n",
    "popt, pcov = curve_fit(sezonska_diferenca, dan_v_letu, delta_T)\n",
    "ostanki = delta_T - sezonska_diferenca(dan_v_letu, *popt)\n",
    "sigma = ostanki.std(ddof=1)\n",
    "\n",
    "# Napoved za naslednji dan (1195)\n",
    "naslednji_dan = 1195\n",
    "naslednji_dan_v_letu = ((naslednji_dan - 1) % 365) + 1\n",
    "delta_pred = sezonska_diferenca(naslednji_dan_v_letu, *popt)\n",
    "T_pred = df['TEMP'].iloc[-1] + delta_pred\n",
    "\n",
    "interval = norm.interval(0.95, loc=T_pred, scale=sigma) #MORDA GREM RAJE PO STUDENTU? ALI?\n",
    "print(f\"Napoved za dan {naslednji_dan} (dan v letu {naslednji_dan_v_letu}): {T_pred:.2f}\")\n",
    "print(f\"95% napovedni interval (model sprememb): {interval}\")"
   ]
  }
 ],
 "metadata": {
  "kernelspec": {
   "display_name": "Python 3",
   "language": "python",
   "name": "python3"
  },
  "language_info": {
   "codemirror_mode": {
    "name": "ipython",
    "version": 3
   },
   "file_extension": ".py",
   "mimetype": "text/x-python",
   "name": "python",
   "nbconvert_exporter": "python",
   "pygments_lexer": "ipython3",
   "version": "3.12.6"
  }
 },
 "nbformat": 4,
 "nbformat_minor": 5
}
