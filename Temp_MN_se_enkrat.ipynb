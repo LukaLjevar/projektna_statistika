{
  "nbformat": 4,
  "nbformat_minor": 0,
  "metadata": {
    "colab": {
      "provenance": [],
      "authorship_tag": "ABX9TyO1ibWpzhd2xo6OmgkE68iM",
      "include_colab_link": true
    },
    "kernelspec": {
      "name": "python3",
      "display_name": "Python 3"
    },
    "language_info": {
      "name": "python"
    }
  },
  "cells": [
    {
      "cell_type": "markdown",
      "metadata": {
        "id": "view-in-github",
        "colab_type": "text"
      },
      "source": [
        "<a href=\"https://colab.research.google.com/github/LukaLjevar/projektna_statistika/blob/main/Temp_MN_se_enkrat.ipynb\" target=\"_parent\"><img src=\"https://colab.research.google.com/assets/colab-badge.svg\" alt=\"Open In Colab\"/></a>"
      ]
    },
    {
      "cell_type": "code",
      "execution_count": 135,
      "metadata": {
        "colab": {
          "base_uri": "https://localhost:8080/"
        },
        "id": "lpOWOnWlGrOy",
        "outputId": "b79c75c3-1e3b-488d-8827-20bde742b5f7"
      },
      "outputs": [
        {
          "output_type": "stream",
          "name": "stdout",
          "text": [
            "1115\n"
          ]
        }
      ],
      "source": [
        "import pandas as pd\n",
        "import numpy as np\n",
        "from scipy.stats import norm\n",
        "from scipy.stats import t\n",
        "\n",
        "df = pd.read_csv('Temp_MN.csv')\n",
        "n = df.shape[0]\n",
        "print(n)\n"
      ]
    },
    {
      "cell_type": "code",
      "source": [
        "#Poračunamo sinuse dni s predfaktorjem in jih seštejemo\n",
        "\n",
        "vsota_sinusov=np.sin(2*np.pi*df[\"DAN\"]/365.25).sum()\n",
        "\n",
        "# Print the result\n",
        "print(\"Vsota_sinusov:\", vsota_sinusov)"
      ],
      "metadata": {
        "colab": {
          "base_uri": "https://localhost:8080/"
        },
        "id": "0G9VyWK2JF0o",
        "outputId": "60de0a55-7175-4298-83e7-9ae9ffb8693b"
      },
      "execution_count": 136,
      "outputs": [
        {
          "output_type": "stream",
          "name": "stdout",
          "text": [
            "Vsota_sinusov: 87.11770195335194\n"
          ]
        }
      ]
    },
    {
      "cell_type": "code",
      "source": [],
      "metadata": {
        "id": "mRctMHGdKVjI"
      },
      "execution_count": 136,
      "outputs": []
    },
    {
      "cell_type": "code",
      "source": [
        "#Poračunamo kosinuse dni s predfaktorjem in jih seštejemo\n",
        "\n",
        "vsota_kosinusov=np.cos(2*np.pi*df[\"DAN\"]/365.25).sum()\n",
        "\n",
        "# Print the result\n",
        "print(\"Vsota_kosinusov:\", vsota_kosinusov)"
      ],
      "metadata": {
        "outputId": "d78db3f5-8e2b-4b2a-961c-7bed164cb968",
        "colab": {
          "base_uri": "https://localhost:8080/"
        },
        "id": "9xj08vDLKV7Y"
      },
      "execution_count": 137,
      "outputs": [
        {
          "output_type": "stream",
          "name": "stdout",
          "text": [
            "Vsota_kosinusov: 94.95872171546173\n"
          ]
        }
      ]
    },
    {
      "cell_type": "code",
      "source": [],
      "metadata": {
        "id": "fyCKZQw3KmKg"
      },
      "execution_count": 137,
      "outputs": []
    },
    {
      "cell_type": "code",
      "source": [
        "#Poračunamo kvadrate sinusov dni s predfaktorjem in jih seštejemo\n",
        "\n",
        "vsota_kvadratov_sinusov=(np.square(np.sin(2*np.pi*df[\"DAN\"]/365.25))).sum()\n",
        "\n",
        "# Print the result\n",
        "print(\"Vsota_kvadratov_sinusov:\", vsota_kvadratov_sinusov)"
      ],
      "metadata": {
        "colab": {
          "base_uri": "https://localhost:8080/"
        },
        "outputId": "5cfabf19-dc8e-4476-92f6-e506e3b12f67",
        "id": "xi-V4lDcKmk5"
      },
      "execution_count": 138,
      "outputs": [
        {
          "output_type": "stream",
          "name": "stdout",
          "text": [
            "Vsota_kvadratov_sinusov: 554.6892645378354\n"
          ]
        }
      ]
    },
    {
      "cell_type": "code",
      "source": [],
      "metadata": {
        "id": "wnFZ0ZPPLJvx"
      },
      "execution_count": 138,
      "outputs": []
    },
    {
      "cell_type": "code",
      "source": [
        "#Poračunamo kvadrate kosinusov dni s predfaktorjem in jih seštejemo\n",
        "\n",
        "vsota_kvadratov_kosinusov=(np.square(np.cos(2*np.pi*df[\"DAN\"]/365.25))).sum()\n",
        "\n",
        "# Print the result\n",
        "print(\"Vsota_kvadratov_kosinusov:\", vsota_kvadratov_kosinusov)"
      ],
      "metadata": {
        "colab": {
          "base_uri": "https://localhost:8080/"
        },
        "outputId": "4852249e-fca6-4747-a820-fd942827ff21",
        "id": "zTtL0vOBLKN5"
      },
      "execution_count": 139,
      "outputs": [
        {
          "output_type": "stream",
          "name": "stdout",
          "text": [
            "Vsota_kvadratov_kosinusov: 560.3107354621646\n"
          ]
        }
      ]
    },
    {
      "cell_type": "code",
      "source": [
        "#Poračunamo SIN*COS dni s predfaktorjem in jih seštejemo\n",
        "\n",
        "vsota_SINCOS=np.sin(4*np.pi*df[\"DAN\"]/365.25).sum()/2\n",
        "\n",
        "# Print the result\n",
        "print(\"Vsota_SINCOS:\", vsota_SINCOS)"
      ],
      "metadata": {
        "id": "bxLYY27jLsxg",
        "outputId": "846d1eb9-4e99-405a-e797-0242015895e2",
        "colab": {
          "base_uri": "https://localhost:8080/"
        }
      },
      "execution_count": 140,
      "outputs": [
        {
          "output_type": "stream",
          "name": "stdout",
          "text": [
            "Vsota_SINCOS: 31.675359696895132\n"
          ]
        }
      ]
    },
    {
      "cell_type": "code",
      "source": [
        "XTX = np.matrix([[n, vsota_sinusov, vsota_kosinusov], [vsota_sinusov, vsota_kvadratov_sinusov, vsota_SINCOS], [vsota_kosinusov, vsota_SINCOS, vsota_kvadratov_kosinusov]])\n",
        "print(XTX)"
      ],
      "metadata": {
        "id": "f3sSO0AqM8Rx",
        "outputId": "033d06fb-cf4f-487a-db1d-24780843ce91",
        "colab": {
          "base_uri": "https://localhost:8080/"
        }
      },
      "execution_count": 141,
      "outputs": [
        {
          "output_type": "stream",
          "name": "stdout",
          "text": [
            "[[1115.           87.11770195   94.95872172]\n",
            " [  87.11770195  554.68926454   31.6753597 ]\n",
            " [  94.95872172   31.6753597   560.31073546]]\n"
          ]
        }
      ]
    },
    {
      "cell_type": "code",
      "source": [
        "inv_XTX = np.linalg.inv(XTX)\n",
        "print(inv_XTX)"
      ],
      "metadata": {
        "id": "uVTc2KccOIpZ",
        "outputId": "b9baf866-d8da-4426-b635-4867e7b13010",
        "colab": {
          "base_uri": "https://localhost:8080/"
        }
      },
      "execution_count": 142,
      "outputs": [
        {
          "output_type": "stream",
          "name": "stdout",
          "text": [
            "[[ 9.20115835e-04 -1.36044882e-04 -1.48245871e-04]\n",
            " [-1.36044882e-04  1.82876499e-03 -8.03271076e-05]\n",
            " [-1.48245871e-04 -8.03271076e-05  1.81438899e-03]]\n"
          ]
        }
      ]
    },
    {
      "cell_type": "code",
      "source": [
        "test = np.linalg.inv(inv_XTX)\n",
        "print(test)"
      ],
      "metadata": {
        "id": "-tHL0G4dOhhi",
        "outputId": "f285c559-203b-4200-daec-3a938832adbd",
        "colab": {
          "base_uri": "https://localhost:8080/"
        }
      },
      "execution_count": 143,
      "outputs": [
        {
          "output_type": "stream",
          "name": "stdout",
          "text": [
            "[[1115.           87.11770195   94.95872172]\n",
            " [  87.11770195  554.68926454   31.6753597 ]\n",
            " [  94.95872172   31.6753597   560.31073546]]\n"
          ]
        }
      ]
    },
    {
      "cell_type": "code",
      "source": [
        "Y = df[\"DAN\"].to_numpy()\n",
        "\n",
        "print(\"Y:\", Y)"
      ],
      "metadata": {
        "id": "toCGgbJuPKH5",
        "outputId": "3229bc5b-02c0-4cc4-d0c9-87ed87838824",
        "colab": {
          "base_uri": "https://localhost:8080/"
        }
      },
      "execution_count": 144,
      "outputs": [
        {
          "output_type": "stream",
          "name": "stdout",
          "text": [
            "Y: [   1    2    3 ... 1192 1193 1194]\n"
          ]
        }
      ]
    }
  ]
}