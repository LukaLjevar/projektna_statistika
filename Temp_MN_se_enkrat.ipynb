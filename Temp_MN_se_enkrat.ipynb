{
  "nbformat": 4,
  "nbformat_minor": 0,
  "metadata": {
    "colab": {
      "provenance": [],
      "authorship_tag": "ABX9TyOslM+4h3syFKhicvNbIFhu",
      "include_colab_link": true
    },
    "kernelspec": {
      "name": "python3",
      "display_name": "Python 3"
    },
    "language_info": {
      "name": "python"
    }
  },
  "cells": [
    {
      "cell_type": "markdown",
      "metadata": {
        "id": "view-in-github",
        "colab_type": "text"
      },
      "source": [
        "<a href=\"https://colab.research.google.com/github/LukaLjevar/projektna_statistika/blob/main/Temp_MN_se_enkrat.ipynb\" target=\"_parent\"><img src=\"https://colab.research.google.com/assets/colab-badge.svg\" alt=\"Open In Colab\"/></a>"
      ]
    },
    {
      "cell_type": "code",
      "execution_count": 620,
      "metadata": {
        "colab": {
          "base_uri": "https://localhost:8080/"
        },
        "id": "lpOWOnWlGrOy",
        "outputId": "750e1c8d-3857-4ab7-c9a3-1e683cd7d1f3"
      },
      "outputs": [
        {
          "output_type": "stream",
          "name": "stdout",
          "text": [
            "1115\n"
          ]
        }
      ],
      "source": [
        "import pandas as pd\n",
        "import numpy as np\n",
        "from scipy.stats import norm\n",
        "from scipy.stats import t\n",
        "\n",
        "df = pd.read_csv('Temp_MN.csv')\n",
        "n = df.shape[0]\n",
        "print(n)\n"
      ]
    },
    {
      "cell_type": "code",
      "source": [
        "#Poračunamo sinuse dni s predfaktorjem in jih seštejemo\n",
        "\n",
        "vsota_sinusov=np.sin(2*np.pi*df[\"DAN\"]/365.25).sum()\n",
        "\n",
        "# Print the result\n",
        "print(\"Vsota_sinusov:\", vsota_sinusov)"
      ],
      "metadata": {
        "colab": {
          "base_uri": "https://localhost:8080/"
        },
        "id": "0G9VyWK2JF0o",
        "outputId": "0d5f30fe-e615-4e1e-c244-9c8c02eb91c1"
      },
      "execution_count": 621,
      "outputs": [
        {
          "output_type": "stream",
          "name": "stdout",
          "text": [
            "Vsota_sinusov: 87.11770195335194\n"
          ]
        }
      ]
    },
    {
      "cell_type": "code",
      "source": [
        "#Poračunamo kosinuse dni s predfaktorjem in jih seštejemo\n",
        "\n",
        "vsota_kosinusov=np.cos(2*np.pi*df[\"DAN\"]/365.25).sum()\n",
        "\n",
        "# Print the result\n",
        "print(\"Vsota_kosinusov:\", vsota_kosinusov)"
      ],
      "metadata": {
        "outputId": "55cf8116-ae2a-44f7-ecfc-ba4f8acaa65b",
        "colab": {
          "base_uri": "https://localhost:8080/"
        },
        "id": "9xj08vDLKV7Y"
      },
      "execution_count": 622,
      "outputs": [
        {
          "output_type": "stream",
          "name": "stdout",
          "text": [
            "Vsota_kosinusov: 94.95872171546173\n"
          ]
        }
      ]
    },
    {
      "cell_type": "code",
      "source": [
        "#Poračunamo kvadrate sinusov dni s predfaktorjem in jih seštejemo\n",
        "\n",
        "vsota_kvadratov_sinusov=(np.square(np.sin(2*np.pi*df[\"DAN\"]/365.25))).sum()\n",
        "\n",
        "# Print the result\n",
        "print(\"Vsota_kvadratov_sinusov:\", vsota_kvadratov_sinusov)"
      ],
      "metadata": {
        "colab": {
          "base_uri": "https://localhost:8080/"
        },
        "outputId": "27257cd8-a52d-4529-c055-5beb3e7cccd6",
        "id": "xi-V4lDcKmk5"
      },
      "execution_count": 623,
      "outputs": [
        {
          "output_type": "stream",
          "name": "stdout",
          "text": [
            "Vsota_kvadratov_sinusov: 554.6892645378354\n"
          ]
        }
      ]
    },
    {
      "cell_type": "code",
      "source": [
        "#Poračunamo kvadrate kosinusov dni s predfaktorjem in jih seštejemo\n",
        "\n",
        "vsota_kvadratov_kosinusov=(np.square(np.cos(2*np.pi*df[\"DAN\"]/365.25))).sum()\n",
        "\n",
        "# Print the result\n",
        "print(\"Vsota_kvadratov_kosinusov:\", vsota_kvadratov_kosinusov)"
      ],
      "metadata": {
        "colab": {
          "base_uri": "https://localhost:8080/"
        },
        "outputId": "8f8cf908-935b-4909-e338-c6b144375a07",
        "id": "zTtL0vOBLKN5"
      },
      "execution_count": 624,
      "outputs": [
        {
          "output_type": "stream",
          "name": "stdout",
          "text": [
            "Vsota_kvadratov_kosinusov: 560.3107354621646\n"
          ]
        }
      ]
    },
    {
      "cell_type": "code",
      "source": [
        "#Poračunamo SIN*COS dni s predfaktorjem in jih seštejemo\n",
        "\n",
        "vsota_SINCOS=np.sin(4*np.pi*df[\"DAN\"]/365.25).sum()/2\n",
        "\n",
        "# Print the result\n",
        "print(\"Vsota_SINCOS:\", vsota_SINCOS)"
      ],
      "metadata": {
        "id": "bxLYY27jLsxg",
        "outputId": "6aa4a0df-8686-456a-cb3e-e08c808632aa",
        "colab": {
          "base_uri": "https://localhost:8080/"
        }
      },
      "execution_count": 625,
      "outputs": [
        {
          "output_type": "stream",
          "name": "stdout",
          "text": [
            "Vsota_SINCOS: 31.675359696895132\n"
          ]
        }
      ]
    },
    {
      "cell_type": "code",
      "source": [
        "XTX = np.matrix([[n, vsota_sinusov, vsota_kosinusov], [vsota_sinusov, vsota_kvadratov_sinusov, vsota_SINCOS], [vsota_kosinusov, vsota_SINCOS, vsota_kvadratov_kosinusov]])\n",
        "print(XTX)"
      ],
      "metadata": {
        "id": "f3sSO0AqM8Rx",
        "outputId": "9f0d919a-ce28-4f1f-95bc-17e7856345fd",
        "colab": {
          "base_uri": "https://localhost:8080/"
        }
      },
      "execution_count": 626,
      "outputs": [
        {
          "output_type": "stream",
          "name": "stdout",
          "text": [
            "[[1115.           87.11770195   94.95872172]\n",
            " [  87.11770195  554.68926454   31.6753597 ]\n",
            " [  94.95872172   31.6753597   560.31073546]]\n"
          ]
        }
      ]
    },
    {
      "cell_type": "code",
      "source": [
        "inv_XTX = np.linalg.inv(XTX)\n",
        "print(inv_XTX)"
      ],
      "metadata": {
        "id": "uVTc2KccOIpZ",
        "outputId": "32cc316e-3ad3-49b2-b372-875b62e8f579",
        "colab": {
          "base_uri": "https://localhost:8080/"
        }
      },
      "execution_count": 627,
      "outputs": [
        {
          "output_type": "stream",
          "name": "stdout",
          "text": [
            "[[ 9.20115835e-04 -1.36044882e-04 -1.48245871e-04]\n",
            " [-1.36044882e-04  1.82876499e-03 -8.03271076e-05]\n",
            " [-1.48245871e-04 -8.03271076e-05  1.81438899e-03]]\n"
          ]
        }
      ]
    },
    {
      "cell_type": "code",
      "source": [
        "test = np.linalg.inv(inv_XTX)\n",
        "print(test)"
      ],
      "metadata": {
        "id": "-tHL0G4dOhhi",
        "outputId": "4710156b-3a68-40b9-9d94-01b21c8edb30",
        "colab": {
          "base_uri": "https://localhost:8080/"
        }
      },
      "execution_count": 628,
      "outputs": [
        {
          "output_type": "stream",
          "name": "stdout",
          "text": [
            "[[1115.           87.11770195   94.95872172]\n",
            " [  87.11770195  554.68926454   31.6753597 ]\n",
            " [  94.95872172   31.6753597   560.31073546]]\n"
          ]
        }
      ]
    },
    {
      "cell_type": "code",
      "source": [
        "Y = df[\"TEMP\"].to_numpy()\n",
        "\n",
        "print(\"Y:\", Y)"
      ],
      "metadata": {
        "id": "toCGgbJuPKH5",
        "outputId": "4fcb6a05-7e82-4287-cc20-e8c61b50ff24",
        "colab": {
          "base_uri": "https://localhost:8080/"
        }
      },
      "execution_count": 629,
      "outputs": [
        {
          "output_type": "stream",
          "name": "stdout",
          "text": [
            "Y: [28.07 26.65 26.49 ... 15.53 12.18  8.26]\n"
          ]
        }
      ]
    },
    {
      "cell_type": "code",
      "source": [
        "#Še matrika X\n",
        "dan =df[\"DAN\"]\n",
        "X = np.column_stack((\n",
        "    np.ones(len(dan)),\n",
        "    np.sin(2*np.pi*dan/365.25),\n",
        "    np.cos(2*np.pi*dan/365.25)\n",
        "))\n",
        "\n",
        "print(\"Constructed matrix:\")\n",
        "print(matrix)"
      ],
      "metadata": {
        "colab": {
          "base_uri": "https://localhost:8080/"
        },
        "id": "X7jTO5rsQPFG",
        "outputId": "57479447-da2e-44ba-fb40-4314d9e4d791"
      },
      "execution_count": 630,
      "outputs": [
        {
          "output_type": "stream",
          "name": "stdout",
          "text": [
            "Constructed matrix:\n",
            "[[ 1.          0.84147098  0.54030231]\n",
            " [ 1.          0.90929743 -0.41614684]\n",
            " [ 1.          0.14112001 -0.9899925 ]\n",
            " ...\n",
            " [ 1.         -0.97265108 -0.23227114]\n",
            " [ 1.         -0.72097505  0.69296102]\n",
            " [ 1.          0.19356212  0.98108802]]\n"
          ]
        }
      ]
    },
    {
      "cell_type": "code",
      "source": [
        "XT = np.matrix_transpose(X)\n",
        "print(XT)"
      ],
      "metadata": {
        "colab": {
          "base_uri": "https://localhost:8080/"
        },
        "id": "GnQkEt5JQujC",
        "outputId": "e58cc3f4-4fda-44d8-a17c-4f55d6bbbaad"
      },
      "execution_count": 631,
      "outputs": [
        {
          "output_type": "stream",
          "name": "stdout",
          "text": [
            "[[ 1.          1.          1.         ...  1.          1.\n",
            "   1.        ]\n",
            " [ 0.01720158  0.03439806  0.05158437 ...  0.99639502  0.99478831\n",
            "   0.99288721]\n",
            " [ 0.99985204  0.99940821  0.99866864 ... -0.08483488 -0.10196189\n",
            "  -0.11905873]]\n"
          ]
        }
      ]
    },
    {
      "cell_type": "code",
      "source": [
        "beta =np.matmul(np.matmul(inv_XTX, XT), Y)\n",
        "print(beta)"
      ],
      "metadata": {
        "colab": {
          "base_uri": "https://localhost:8080/"
        },
        "id": "Fxr17FEfRDPh",
        "outputId": "36aeaf37-8895-4d9b-a863-e7f1a31dad96"
      },
      "execution_count": 632,
      "outputs": [
        {
          "output_type": "stream",
          "name": "stdout",
          "text": [
            "[[12.29655083  7.29833196 14.36784201]]\n"
          ]
        }
      ]
    },
    {
      "cell_type": "code",
      "source": [
        "sigm = np.sqrt((np.linalg.norm(Y-np.matmul(X, np.matrix_transpose(beta))))/1112)\n",
        "print(sigm)"
      ],
      "metadata": {
        "id": "EG4cFq81jftP",
        "outputId": "4147443a-80ed-4adb-e77c-5ed81e8b1e54",
        "colab": {
          "base_uri": "https://localhost:8080/"
        }
      },
      "execution_count": 633,
      "outputs": [
        {
          "output_type": "stream",
          "name": "stdout",
          "text": [
            "4.1657085636967475\n"
          ]
        }
      ]
    },
    {
      "cell_type": "code",
      "source": [
        "c = [[1],[np.sin(2*np.pi*1195/365.25)],[np.cos(2*np.pi*1195/365.25)]]\n",
        "print(c)"
      ],
      "metadata": {
        "id": "3NjfIy1qkewn",
        "outputId": "1e0f7602-bd90-4962-a094-518131ea7306",
        "colab": {
          "base_uri": "https://localhost:8080/"
        }
      },
      "execution_count": 634,
      "outputs": [
        {
          "output_type": "stream",
          "name": "stdout",
          "text": [
            "[[1], [np.float64(0.9906923101615611)], [np.float64(-0.13612033862266606)]]\n"
          ]
        }
      ]
    },
    {
      "cell_type": "code",
      "source": [
        "A=np.matmul(np.matmul(np.matrix_transpose(c),inv_XTX),c)\n",
        "print(A)"
      ],
      "metadata": {
        "id": "j7sW46qBlWPH",
        "outputId": "c316d83f-23f3-469b-bf2c-9e1d75045832",
        "colab": {
          "base_uri": "https://localhost:8080/"
        }
      },
      "execution_count": 635,
      "outputs": [
        {
          "output_type": "stream",
          "name": "stdout",
          "text": [
            "[[0.00254108]]\n"
          ]
        }
      ]
    },
    {
      "cell_type": "code",
      "source": [
        "Aa =float(np.ravel(A).item())\n",
        "print(Aa)"
      ],
      "metadata": {
        "id": "IO7nJ0KYlukf",
        "outputId": "b07c8222-7be8-4b65-9fbd-63cea2abc0d8",
        "colab": {
          "base_uri": "https://localhost:8080/"
        }
      },
      "execution_count": 636,
      "outputs": [
        {
          "output_type": "stream",
          "name": "stdout",
          "text": [
            "0.0025410805373233974\n"
          ]
        }
      ]
    },
    {
      "cell_type": "code",
      "source": [
        "sep = sigm * np.sqrt(1+Aa)\n",
        "print(sep)"
      ],
      "metadata": {
        "id": "d4-8ymAfnSpQ",
        "outputId": "8e445fe3-c428-468c-da0d-a8bb3c743628",
        "colab": {
          "base_uri": "https://localhost:8080/"
        }
      },
      "execution_count": 637,
      "outputs": [
        {
          "output_type": "stream",
          "name": "stdout",
          "text": [
            "4.170997906145048\n"
          ]
        }
      ]
    },
    {
      "cell_type": "code",
      "source": [
        "delta = 1.96*sep\n",
        "print(delta)"
      ],
      "metadata": {
        "id": "Ia56FKZNn5HY",
        "outputId": "4e35abc3-2832-4066-b97e-fbb19ac315e5",
        "colab": {
          "base_uri": "https://localhost:8080/"
        }
      },
      "execution_count": 638,
      "outputs": [
        {
          "output_type": "stream",
          "name": "stdout",
          "text": [
            "8.175155896044293\n"
          ]
        }
      ]
    },
    {
      "cell_type": "code",
      "source": [
        "pred = float(np.ravel(np.matmul(np.matrix_transpose(c), np.matrix_transpose(beta))).item())\n",
        "print(pred)"
      ],
      "metadata": {
        "id": "ncZ5Qg2TpNpp",
        "outputId": "3cd0be6e-1381-4e48-8bcf-6570054ddf79",
        "colab": {
          "base_uri": "https://localhost:8080/"
        }
      },
      "execution_count": 639,
      "outputs": [
        {
          "output_type": "stream",
          "name": "stdout",
          "text": [
            "17.571196665989707\n"
          ]
        }
      ]
    },
    {
      "cell_type": "code",
      "source": [
        "spodnja = pred - delta\n",
        "zgornja = pred + delta\n",
        "print(\"spodnja:\", spodnja)\n",
        "print(\"zgornja:\", zgornja)"
      ],
      "metadata": {
        "id": "JblS16LNp4Zx",
        "outputId": "8f8f412f-6e79-437f-e2b3-b69c36b72db4",
        "colab": {
          "base_uri": "https://localhost:8080/"
        }
      },
      "execution_count": 640,
      "outputs": [
        {
          "output_type": "stream",
          "name": "stdout",
          "text": [
            "spodnja: 9.396040769945413\n",
            "zgornja: 25.746352562033998\n"
          ]
        }
      ]
    }
  ]
}