{
  "nbformat": 4,
  "nbformat_minor": 0,
  "metadata": {
    "colab": {
      "provenance": [],
      "authorship_tag": "ABX9TyOaFmp9Ah9iBV7H8os7sTq6",
      "include_colab_link": true
    },
    "kernelspec": {
      "name": "python3",
      "display_name": "Python 3"
    },
    "language_info": {
      "name": "python"
    }
  },
  "cells": [
    {
      "cell_type": "markdown",
      "metadata": {
        "id": "view-in-github",
        "colab_type": "text"
      },
      "source": [
        "<a href=\"https://colab.research.google.com/github/LukaLjevar/projektna_statistika/blob/main/Temp_MN_se_enkrat.ipynb\" target=\"_parent\"><img src=\"https://colab.research.google.com/assets/colab-badge.svg\" alt=\"Open In Colab\"/></a>"
      ]
    },
    {
      "cell_type": "code",
      "execution_count": 119,
      "metadata": {
        "colab": {
          "base_uri": "https://localhost:8080/"
        },
        "id": "lpOWOnWlGrOy",
        "outputId": "e658f567-1346-4805-c23a-8cef21575b62"
      },
      "outputs": [
        {
          "output_type": "stream",
          "name": "stdout",
          "text": [
            "1115\n"
          ]
        }
      ],
      "source": [
        "import pandas as pd\n",
        "import numpy as np\n",
        "from scipy.stats import norm\n",
        "from scipy.stats import t\n",
        "\n",
        "df = pd.read_csv('Temp_MN.csv')\n",
        "n = df.shape[0]\n",
        "print(n)\n"
      ]
    },
    {
      "cell_type": "code",
      "source": [
        "#Poračunamo sinuse dni s predfaktorjem in jih seštejemo\n",
        "\n",
        "vsota_sinusov=np.sin(2*np.pi*df[\"DAN\"]/365.25).sum()\n",
        "\n",
        "# Print the result\n",
        "print(\"Vsota_sinusov:\", vsota_sinusov)"
      ],
      "metadata": {
        "colab": {
          "base_uri": "https://localhost:8080/"
        },
        "id": "0G9VyWK2JF0o",
        "outputId": "e7ac20a3-a5e5-47be-bd51-34764b6f11e8"
      },
      "execution_count": 120,
      "outputs": [
        {
          "output_type": "stream",
          "name": "stdout",
          "text": [
            "Vsota_sinusov: 87.11770195335194\n"
          ]
        }
      ]
    },
    {
      "cell_type": "code",
      "source": [
        "#Poračunamo kosinuse dni s predfaktorjem in jih seštejemo\n",
        "\n",
        "vsota_kosinusov=np.cos(2*np.pi*df[\"DAN\"]/365.25).sum()\n",
        "\n",
        "# Print the result\n",
        "print(\"Vsota_kosinusov:\", vsota_kosinusov)"
      ],
      "metadata": {
        "outputId": "3b2b4a74-d70a-43b7-f6c5-234532b866d3",
        "colab": {
          "base_uri": "https://localhost:8080/"
        },
        "id": "9xj08vDLKV7Y"
      },
      "execution_count": 121,
      "outputs": [
        {
          "output_type": "stream",
          "name": "stdout",
          "text": [
            "Vsota_kosinusov: 94.95872171546173\n"
          ]
        }
      ]
    },
    {
      "cell_type": "code",
      "source": [
        "#Poračunamo kvadrate sinusov dni s predfaktorjem in jih seštejemo\n",
        "\n",
        "vsota_kvadratov_sinusov=(np.square(np.sin(2*np.pi*df[\"DAN\"]/365.25))).sum()\n",
        "\n",
        "# Print the result\n",
        "print(\"Vsota_kvadratov_sinusov:\", vsota_kvadratov_sinusov)"
      ],
      "metadata": {
        "colab": {
          "base_uri": "https://localhost:8080/"
        },
        "outputId": "dfaedd68-f960-4142-8908-a5552db73b35",
        "id": "xi-V4lDcKmk5"
      },
      "execution_count": 122,
      "outputs": [
        {
          "output_type": "stream",
          "name": "stdout",
          "text": [
            "Vsota_kvadratov_sinusov: 554.6892645378354\n"
          ]
        }
      ]
    },
    {
      "cell_type": "code",
      "source": [
        "#Poračunamo kvadrate kosinusov dni s predfaktorjem in jih seštejemo\n",
        "\n",
        "vsota_kvadratov_kosinusov=(np.square(np.cos(2*np.pi*df[\"DAN\"]/365.25))).sum()\n",
        "\n",
        "# Print the result\n",
        "print(\"Vsota_kvadratov_kosinusov:\", vsota_kvadratov_kosinusov)"
      ],
      "metadata": {
        "colab": {
          "base_uri": "https://localhost:8080/"
        },
        "outputId": "48ebde0c-495f-46fa-f790-b932e4a0332e",
        "id": "zTtL0vOBLKN5"
      },
      "execution_count": 123,
      "outputs": [
        {
          "output_type": "stream",
          "name": "stdout",
          "text": [
            "Vsota_kvadratov_kosinusov: 560.3107354621646\n"
          ]
        }
      ]
    },
    {
      "cell_type": "code",
      "source": [
        "#Poračunamo SIN*COS dni s predfaktorjem in jih seštejemo\n",
        "\n",
        "vsota_SINCOS=np.sin(4*np.pi*df[\"DAN\"]/365.25).sum()/2\n",
        "\n",
        "# Print the result\n",
        "print(\"Vsota_SINCOS:\", vsota_SINCOS)"
      ],
      "metadata": {
        "id": "bxLYY27jLsxg",
        "outputId": "edcbf32e-f404-45cc-864a-c4dba8e69717",
        "colab": {
          "base_uri": "https://localhost:8080/"
        }
      },
      "execution_count": 124,
      "outputs": [
        {
          "output_type": "stream",
          "name": "stdout",
          "text": [
            "Vsota_SINCOS: 31.675359696895132\n"
          ]
        }
      ]
    },
    {
      "cell_type": "code",
      "source": [
        "XTX = np.matrix([[n, vsota_sinusov, vsota_kosinusov], [vsota_sinusov, vsota_kvadratov_sinusov, vsota_SINCOS], [vsota_kosinusov, vsota_SINCOS, vsota_kvadratov_kosinusov]])\n",
        "print(XTX)"
      ],
      "metadata": {
        "id": "f3sSO0AqM8Rx",
        "outputId": "627e22cf-9b23-44f3-8562-f8d95c567179",
        "colab": {
          "base_uri": "https://localhost:8080/"
        }
      },
      "execution_count": 125,
      "outputs": [
        {
          "output_type": "stream",
          "name": "stdout",
          "text": [
            "[[1115.           87.11770195   94.95872172]\n",
            " [  87.11770195  554.68926454   31.6753597 ]\n",
            " [  94.95872172   31.6753597   560.31073546]]\n"
          ]
        }
      ]
    },
    {
      "cell_type": "code",
      "source": [
        "inv_XTX = np.linalg.inv(XTX)\n",
        "print(inv_XTX)"
      ],
      "metadata": {
        "id": "uVTc2KccOIpZ",
        "outputId": "5d5fb400-6eea-4ee7-8ce7-63109453ae20",
        "colab": {
          "base_uri": "https://localhost:8080/"
        }
      },
      "execution_count": 126,
      "outputs": [
        {
          "output_type": "stream",
          "name": "stdout",
          "text": [
            "[[ 9.20115835e-04 -1.36044882e-04 -1.48245871e-04]\n",
            " [-1.36044882e-04  1.82876499e-03 -8.03271076e-05]\n",
            " [-1.48245871e-04 -8.03271076e-05  1.81438899e-03]]\n"
          ]
        }
      ]
    },
    {
      "cell_type": "code",
      "source": [
        "test = np.linalg.inv(inv_XTX)\n",
        "print(test)"
      ],
      "metadata": {
        "id": "-tHL0G4dOhhi",
        "outputId": "c547ddb1-a760-484f-ee66-ae55c34d3c5f",
        "colab": {
          "base_uri": "https://localhost:8080/"
        }
      },
      "execution_count": 127,
      "outputs": [
        {
          "output_type": "stream",
          "name": "stdout",
          "text": [
            "[[1115.           87.11770195   94.95872172]\n",
            " [  87.11770195  554.68926454   31.6753597 ]\n",
            " [  94.95872172   31.6753597   560.31073546]]\n"
          ]
        }
      ]
    },
    {
      "cell_type": "code",
      "source": [
        "Y = df[\"TEMP\"].to_numpy()\n",
        "\n",
        "print(\"Y:\", Y)"
      ],
      "metadata": {
        "id": "toCGgbJuPKH5",
        "outputId": "519d173e-d054-4552-bc03-3c9e3e287880",
        "colab": {
          "base_uri": "https://localhost:8080/"
        }
      },
      "execution_count": 128,
      "outputs": [
        {
          "output_type": "stream",
          "name": "stdout",
          "text": [
            "Y: [28.07 26.65 26.49 ... 15.53 12.18  8.26]\n"
          ]
        }
      ]
    },
    {
      "cell_type": "code",
      "source": [
        "#Še matrika X\n",
        "dan =df[\"DAN\"]\n",
        "X = np.column_stack((\n",
        "    np.ones(len(dan)),\n",
        "    np.sin(2*np.pi*dan/365.25),\n",
        "    np.cos(2*np.pi*dan/365.25)\n",
        "))\n",
        "\n",
        "print(\"Constructed matrix:\")\n",
        "print(X)"
      ],
      "metadata": {
        "colab": {
          "base_uri": "https://localhost:8080/"
        },
        "id": "X7jTO5rsQPFG",
        "outputId": "a83cc3f5-defa-4c33-9d82-838f5c0ef004"
      },
      "execution_count": 129,
      "outputs": [
        {
          "output_type": "stream",
          "name": "stdout",
          "text": [
            "Constructed matrix:\n",
            "[[ 1.          0.01720158  0.99985204]\n",
            " [ 1.          0.03439806  0.99940821]\n",
            " [ 1.          0.05158437  0.99866864]\n",
            " ...\n",
            " [ 1.          0.99639502 -0.08483488]\n",
            " [ 1.          0.99478831 -0.10196189]\n",
            " [ 1.          0.99288721 -0.11905873]]\n"
          ]
        }
      ]
    },
    {
      "cell_type": "code",
      "source": [
        "XT = np.matrix_transpose(X)\n",
        "print(XT)"
      ],
      "metadata": {
        "colab": {
          "base_uri": "https://localhost:8080/"
        },
        "id": "GnQkEt5JQujC",
        "outputId": "bf3da05b-c6aa-4a4b-e6d0-ef6b13176f75"
      },
      "execution_count": 130,
      "outputs": [
        {
          "output_type": "stream",
          "name": "stdout",
          "text": [
            "[[ 1.          1.          1.         ...  1.          1.\n",
            "   1.        ]\n",
            " [ 0.01720158  0.03439806  0.05158437 ...  0.99639502  0.99478831\n",
            "   0.99288721]\n",
            " [ 0.99985204  0.99940821  0.99866864 ... -0.08483488 -0.10196189\n",
            "  -0.11905873]]\n"
          ]
        }
      ]
    },
    {
      "cell_type": "code",
      "source": [
        "beta =np.matmul(np.matmul(inv_XTX, XT), Y)\n",
        "print(beta)"
      ],
      "metadata": {
        "colab": {
          "base_uri": "https://localhost:8080/"
        },
        "id": "Fxr17FEfRDPh",
        "outputId": "698d008b-fa59-4fcf-fd49-2a72e9c343e5"
      },
      "execution_count": 131,
      "outputs": [
        {
          "output_type": "stream",
          "name": "stdout",
          "text": [
            "[[12.29655083  7.29833196 14.36784201]]\n"
          ]
        }
      ]
    },
    {
      "cell_type": "code",
      "source": [
        "sigm = np.sqrt(np.linalg.norm(Y-np.matmul(X, np.matrix_transpose(beta)))/1112)\n",
        "print(sigm)"
      ],
      "metadata": {
        "id": "EG4cFq81jftP",
        "outputId": "cd78fc4a-b79c-41f4-dfea-b23529041337",
        "colab": {
          "base_uri": "https://localhost:8080/"
        }
      },
      "execution_count": 132,
      "outputs": [
        {
          "output_type": "stream",
          "name": "stdout",
          "text": [
            "4.1657085636967475\n"
          ]
        }
      ]
    },
    {
      "cell_type": "code",
      "source": [
        "c = [[1],[np.sin(2*np.pi*1195/365.25)],[np.cos(2*np.pi*1195/365.25)]]\n",
        "print(c)"
      ],
      "metadata": {
        "id": "3NjfIy1qkewn",
        "outputId": "6ff31dcd-a6e2-406a-cda4-c084a038849e",
        "colab": {
          "base_uri": "https://localhost:8080/"
        }
      },
      "execution_count": 133,
      "outputs": [
        {
          "output_type": "stream",
          "name": "stdout",
          "text": [
            "[[1], [np.float64(0.9906923101615611)], [np.float64(-0.13612033862266606)]]\n"
          ]
        }
      ]
    },
    {
      "cell_type": "code",
      "source": [
        "A=np.matmul(np.matmul(np.matrix_transpose(c),inv_XTX),c)\n",
        "print(A)"
      ],
      "metadata": {
        "id": "j7sW46qBlWPH",
        "outputId": "9c0624bb-f9f0-4dd6-c4fa-da0e43c51bd8",
        "colab": {
          "base_uri": "https://localhost:8080/"
        }
      },
      "execution_count": 134,
      "outputs": [
        {
          "output_type": "stream",
          "name": "stdout",
          "text": [
            "[[0.00254108]]\n"
          ]
        }
      ]
    },
    {
      "cell_type": "code",
      "source": [
        "Aa =float(np.ravel(A).item())\n",
        "print(Aa)"
      ],
      "metadata": {
        "id": "IO7nJ0KYlukf",
        "outputId": "69144fe3-c778-4be0-e7e5-6cba0804c6af",
        "colab": {
          "base_uri": "https://localhost:8080/"
        }
      },
      "execution_count": 135,
      "outputs": [
        {
          "output_type": "stream",
          "name": "stdout",
          "text": [
            "0.0025410805373233974\n"
          ]
        }
      ]
    },
    {
      "cell_type": "code",
      "source": [
        "sep = sigm * np.sqrt(1+Aa)\n",
        "print(sep)"
      ],
      "metadata": {
        "id": "d4-8ymAfnSpQ",
        "outputId": "45ffd8d6-2739-4476-fd4c-7ba9ed0bcf18",
        "colab": {
          "base_uri": "https://localhost:8080/"
        }
      },
      "execution_count": 136,
      "outputs": [
        {
          "output_type": "stream",
          "name": "stdout",
          "text": [
            "4.170997906145048\n"
          ]
        }
      ]
    },
    {
      "cell_type": "code",
      "source": [
        "delta = 1.96*sep\n",
        "print(delta)"
      ],
      "metadata": {
        "id": "Ia56FKZNn5HY",
        "outputId": "d5e1d18a-7262-4e85-e50e-c476301f3a75",
        "colab": {
          "base_uri": "https://localhost:8080/"
        }
      },
      "execution_count": 137,
      "outputs": [
        {
          "output_type": "stream",
          "name": "stdout",
          "text": [
            "8.175155896044293\n"
          ]
        }
      ]
    },
    {
      "cell_type": "code",
      "source": [
        "pred = float(np.ravel(np.matmul(np.matrix_transpose(c), np.matrix_transpose(beta))).item())\n",
        "print(pred)"
      ],
      "metadata": {
        "id": "ncZ5Qg2TpNpp",
        "outputId": "97e93aef-3c5c-476a-f60e-816f08a3bfaf",
        "colab": {
          "base_uri": "https://localhost:8080/"
        }
      },
      "execution_count": 138,
      "outputs": [
        {
          "output_type": "stream",
          "name": "stdout",
          "text": [
            "17.571196665989707\n"
          ]
        }
      ]
    },
    {
      "cell_type": "code",
      "source": [
        "spodnja = pred - delta\n",
        "zgornja = pred + delta\n",
        "print(\"spodnja:\", spodnja)\n",
        "print(\"zgornja:\", zgornja)"
      ],
      "metadata": {
        "id": "JblS16LNp4Zx",
        "outputId": "5d23bca8-6b8f-4d64-c38b-439628bb931f",
        "colab": {
          "base_uri": "https://localhost:8080/"
        }
      },
      "execution_count": 139,
      "outputs": [
        {
          "output_type": "stream",
          "name": "stdout",
          "text": [
            "spodnja: 9.396040769945413\n",
            "zgornja: 25.746352562033998\n"
          ]
        }
      ]
    }
  ]
}