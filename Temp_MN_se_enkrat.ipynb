{
  "nbformat": 4,
  "nbformat_minor": 0,
  "metadata": {
    "colab": {
      "provenance": [],
      "authorship_tag": "ABX9TyNcin6J3d9KYAbfM2kx5o/1",
      "include_colab_link": true
    },
    "kernelspec": {
      "name": "python3",
      "display_name": "Python 3"
    },
    "language_info": {
      "name": "python"
    }
  },
  "cells": [
    {
      "cell_type": "markdown",
      "metadata": {
        "id": "view-in-github",
        "colab_type": "text"
      },
      "source": [
        "<a href=\"https://colab.research.google.com/github/LukaLjevar/projektna_statistika/blob/main/Temp_MN_se_enkrat.ipynb\" target=\"_parent\"><img src=\"https://colab.research.google.com/assets/colab-badge.svg\" alt=\"Open In Colab\"/></a>"
      ]
    },
    {
      "cell_type": "code",
      "execution_count": 242,
      "metadata": {
        "colab": {
          "base_uri": "https://localhost:8080/"
        },
        "id": "lpOWOnWlGrOy",
        "outputId": "06aaeb68-e7ed-4488-917e-4914029b169c"
      },
      "outputs": [
        {
          "output_type": "stream",
          "name": "stdout",
          "text": [
            "1115\n"
          ]
        }
      ],
      "source": [
        "import pandas as pd\n",
        "import numpy as np\n",
        "from scipy.stats import norm\n",
        "from scipy.stats import t\n",
        "\n",
        "df = pd.read_csv('Temp_MN.csv')\n",
        "n = df.shape[0]\n",
        "print(n)\n"
      ]
    },
    {
      "cell_type": "code",
      "source": [
        "#Poračunamo sinuse dni s predfaktorjem in jih seštejemo\n",
        "\n",
        "vsota_sinusov=np.sin(2*np.pi*df[\"DAN\"]/365.25).sum()\n",
        "\n",
        "# Print the result\n",
        "print(\"Vsota_sinusov:\", vsota_sinusov)"
      ],
      "metadata": {
        "colab": {
          "base_uri": "https://localhost:8080/"
        },
        "id": "0G9VyWK2JF0o",
        "outputId": "b06b25ae-1b86-4d58-c9a9-bd3e71f04eea"
      },
      "execution_count": 243,
      "outputs": [
        {
          "output_type": "stream",
          "name": "stdout",
          "text": [
            "Vsota_sinusov: 87.11770195335194\n"
          ]
        }
      ]
    },
    {
      "cell_type": "code",
      "source": [],
      "metadata": {
        "id": "mRctMHGdKVjI"
      },
      "execution_count": 243,
      "outputs": []
    },
    {
      "cell_type": "code",
      "source": [
        "#Poračunamo kosinuse dni s predfaktorjem in jih seštejemo\n",
        "\n",
        "vsota_kosinusov=np.cos(2*np.pi*df[\"DAN\"]/365.25).sum()\n",
        "\n",
        "# Print the result\n",
        "print(\"Vsota_kosinusov:\", vsota_kosinusov)"
      ],
      "metadata": {
        "outputId": "9b71f6f9-37eb-401b-c1b1-cfd1fa5b65ac",
        "colab": {
          "base_uri": "https://localhost:8080/"
        },
        "id": "9xj08vDLKV7Y"
      },
      "execution_count": 244,
      "outputs": [
        {
          "output_type": "stream",
          "name": "stdout",
          "text": [
            "Vsota_kosinusov: 94.95872171546173\n"
          ]
        }
      ]
    },
    {
      "cell_type": "code",
      "source": [],
      "metadata": {
        "id": "fyCKZQw3KmKg"
      },
      "execution_count": 244,
      "outputs": []
    },
    {
      "cell_type": "code",
      "source": [
        "#Poračunamo kvadrate sinusov dni s predfaktorjem in jih seštejemo\n",
        "\n",
        "vsota_kvadratov_sinusov=(np.square(np.sin(2*np.pi*df[\"DAN\"]/365.25))).sum()\n",
        "\n",
        "# Print the result\n",
        "print(\"Vsota_kvadratov_sinusov:\", vsota_kvadratov_sinusov)"
      ],
      "metadata": {
        "colab": {
          "base_uri": "https://localhost:8080/"
        },
        "outputId": "b6f25d25-3c76-4b02-85d3-6b2d63e59f07",
        "id": "xi-V4lDcKmk5"
      },
      "execution_count": 245,
      "outputs": [
        {
          "output_type": "stream",
          "name": "stdout",
          "text": [
            "Vsota_kvadratov_sinusov: 554.6892645378354\n"
          ]
        }
      ]
    },
    {
      "cell_type": "code",
      "source": [],
      "metadata": {
        "id": "wnFZ0ZPPLJvx"
      },
      "execution_count": 245,
      "outputs": []
    },
    {
      "cell_type": "code",
      "source": [
        "#Poračunamo kvadrate kosinusov dni s predfaktorjem in jih seštejemo\n",
        "\n",
        "vsota_kvadratov_kosinusov=(np.square(np.cos(2*np.pi*df[\"DAN\"]/365.25))).sum()\n",
        "\n",
        "# Print the result\n",
        "print(\"Vsota_kvadratov_kosinusov:\", vsota_kvadratov_kosinusov)"
      ],
      "metadata": {
        "colab": {
          "base_uri": "https://localhost:8080/"
        },
        "outputId": "1a3374dc-8183-4521-a51b-4661bb49fa3b",
        "id": "zTtL0vOBLKN5"
      },
      "execution_count": 246,
      "outputs": [
        {
          "output_type": "stream",
          "name": "stdout",
          "text": [
            "Vsota_kvadratov_kosinusov: 560.3107354621646\n"
          ]
        }
      ]
    },
    {
      "cell_type": "code",
      "source": [
        "#Poračunamo SIN*COS dni s predfaktorjem in jih seštejemo\n",
        "\n",
        "vsota_SINCOS=np.sin(4*np.pi*df[\"DAN\"]/365.25).sum()/2\n",
        "\n",
        "# Print the result\n",
        "print(\"Vsota_SINCOS:\", vsota_SINCOS)"
      ],
      "metadata": {
        "id": "bxLYY27jLsxg",
        "outputId": "697f0f0b-a6b2-4e4d-884a-bcded1fd42b5",
        "colab": {
          "base_uri": "https://localhost:8080/"
        }
      },
      "execution_count": 247,
      "outputs": [
        {
          "output_type": "stream",
          "name": "stdout",
          "text": [
            "Vsota_SINCOS: 31.675359696895132\n"
          ]
        }
      ]
    },
    {
      "cell_type": "code",
      "source": [
        "XTX = np.matrix([[n, vsota_sinusov, vsota_kosinusov], [vsota_sinusov, vsota_kvadratov_sinusov, vsota_SINCOS], [vsota_kosinusov, vsota_SINCOS, vsota_kvadratov_kosinusov]])\n",
        "print(XTX)"
      ],
      "metadata": {
        "id": "f3sSO0AqM8Rx",
        "outputId": "5d2ba905-3843-42d6-9d44-20520098d40a",
        "colab": {
          "base_uri": "https://localhost:8080/"
        }
      },
      "execution_count": 248,
      "outputs": [
        {
          "output_type": "stream",
          "name": "stdout",
          "text": [
            "[[1115.           87.11770195   94.95872172]\n",
            " [  87.11770195  554.68926454   31.6753597 ]\n",
            " [  94.95872172   31.6753597   560.31073546]]\n"
          ]
        }
      ]
    },
    {
      "cell_type": "code",
      "source": [
        "inv_XTX = np.linalg.inv(XTX)\n",
        "print(inv_XTX)"
      ],
      "metadata": {
        "id": "uVTc2KccOIpZ",
        "outputId": "c3ce3c13-7d9e-480a-e91c-bfc3cff4aec7",
        "colab": {
          "base_uri": "https://localhost:8080/"
        }
      },
      "execution_count": 249,
      "outputs": [
        {
          "output_type": "stream",
          "name": "stdout",
          "text": [
            "[[ 9.20115835e-04 -1.36044882e-04 -1.48245871e-04]\n",
            " [-1.36044882e-04  1.82876499e-03 -8.03271076e-05]\n",
            " [-1.48245871e-04 -8.03271076e-05  1.81438899e-03]]\n"
          ]
        }
      ]
    },
    {
      "cell_type": "code",
      "source": [
        "test = np.linalg.inv(inv_XTX)\n",
        "print(test)"
      ],
      "metadata": {
        "id": "-tHL0G4dOhhi",
        "outputId": "cee4538d-9293-4e7c-9ae2-5187b67385f8",
        "colab": {
          "base_uri": "https://localhost:8080/"
        }
      },
      "execution_count": 250,
      "outputs": [
        {
          "output_type": "stream",
          "name": "stdout",
          "text": [
            "[[1115.           87.11770195   94.95872172]\n",
            " [  87.11770195  554.68926454   31.6753597 ]\n",
            " [  94.95872172   31.6753597   560.31073546]]\n"
          ]
        }
      ]
    },
    {
      "cell_type": "code",
      "source": [
        "Y = df[\"TEMP\"].to_numpy()\n",
        "\n",
        "print(\"Y:\", Y)"
      ],
      "metadata": {
        "id": "toCGgbJuPKH5",
        "outputId": "c17723d4-4514-4cc0-d65a-338ea864894e",
        "colab": {
          "base_uri": "https://localhost:8080/"
        }
      },
      "execution_count": 251,
      "outputs": [
        {
          "output_type": "stream",
          "name": "stdout",
          "text": [
            "Y: [28.07 26.65 26.49 ... 15.53 12.18  8.26]\n"
          ]
        }
      ]
    },
    {
      "cell_type": "code",
      "source": [
        "#Še matrika X\n",
        "dan =df[\"DAN\"]\n",
        "X = np.column_stack((\n",
        "    np.ones(len(dan)),\n",
        "    np.sin(2*np.pi*dan/365.25),\n",
        "    np.cos(2*np.pi*dan/365.25)\n",
        "))\n",
        "\n",
        "print(\"Constructed matrix:\")\n",
        "print(matrix)"
      ],
      "metadata": {
        "id": "X7jTO5rsQPFG",
        "outputId": "c57145e6-4b07-4ad7-dd2c-19f26d8fa46c",
        "colab": {
          "base_uri": "https://localhost:8080/"
        }
      },
      "execution_count": 252,
      "outputs": [
        {
          "output_type": "stream",
          "name": "stdout",
          "text": [
            "Constructed matrix:\n",
            "[[ 1.          0.84147098  0.54030231]\n",
            " [ 1.          0.90929743 -0.41614684]\n",
            " [ 1.          0.14112001 -0.9899925 ]\n",
            " ...\n",
            " [ 1.         -0.97265108 -0.23227114]\n",
            " [ 1.         -0.72097505  0.69296102]\n",
            " [ 1.          0.19356212  0.98108802]]\n"
          ]
        }
      ]
    },
    {
      "cell_type": "code",
      "source": [
        "XT = np.matrix_transpose(X)\n",
        "print(XT)"
      ],
      "metadata": {
        "id": "GnQkEt5JQujC",
        "outputId": "6bd775ab-feb3-4e28-9a33-5926f2aa30c3",
        "colab": {
          "base_uri": "https://localhost:8080/"
        }
      },
      "execution_count": 253,
      "outputs": [
        {
          "output_type": "stream",
          "name": "stdout",
          "text": [
            "[[ 1.          1.          1.         ...  1.          1.\n",
            "   1.        ]\n",
            " [ 0.01720158  0.03439806  0.05158437 ...  0.99639502  0.99478831\n",
            "   0.99288721]\n",
            " [ 0.99985204  0.99940821  0.99866864 ... -0.08483488 -0.10196189\n",
            "  -0.11905873]]\n"
          ]
        }
      ]
    },
    {
      "cell_type": "code",
      "source": [
        "beta =np.matmul(np.matmul(inv_XTX, XT), Y)\n",
        "print(beta)"
      ],
      "metadata": {
        "id": "Fxr17FEfRDPh",
        "outputId": "c2553785-94c4-4219-9e91-d24d79b108a7",
        "colab": {
          "base_uri": "https://localhost:8080/"
        }
      },
      "execution_count": 254,
      "outputs": [
        {
          "output_type": "stream",
          "name": "stdout",
          "text": [
            "[[12.29655083  7.29833196 14.36784201]]\n"
          ]
        }
      ]
    }
  ]
}